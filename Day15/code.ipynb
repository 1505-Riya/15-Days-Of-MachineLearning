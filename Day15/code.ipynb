{
 "cells": [
  {
   "cell_type": "code",
   "execution_count": 1,
   "id": "24abc759-a16d-47cf-9322-7d3185c4ab65",
   "metadata": {},
   "outputs": [
    {
     "name": "stdout",
     "output_type": "stream",
     "text": [
      "--- Training and Saving the Model ---\n",
      "Model trained successfully.\n",
      "Model saved to 'iris_model.joblib'\n"
     ]
    }
   ],
   "source": [
    "# Cell 1: Train and Save the Model\n",
    "import pandas as pd\n",
    "from sklearn.datasets import load_iris\n",
    "from sklearn.linear_model import LogisticRegression\n",
    "import joblib\n",
    "\n",
    "print(\"--- Training and Saving the Model ---\")\n",
    "\n",
    "# 1. Load the Iris dataset\n",
    "iris = load_iris()\n",
    "X = iris.data\n",
    "y = iris.target\n",
    "\n",
    "# 2. Train a Logistic Regression model\n",
    "model = LogisticRegression(max_iter=200)\n",
    "model.fit(X, y)\n",
    "print(\"Model trained successfully.\")\n",
    "\n",
    "# 3. Save the trained model to a file\n",
    "model_filename = 'iris_model.joblib'\n",
    "joblib.dump(model, model_filename)\n",
    "\n",
    "print(f\"Model saved to '{model_filename}'\")"
   ]
  },
  {
   "cell_type": "code",
   "execution_count": null,
   "id": "57c77273-1e4e-4ca4-90f3-adecd03e52e3",
   "metadata": {},
   "outputs": [],
   "source": []
  }
 ],
 "metadata": {
  "kernelspec": {
   "display_name": "Python 3 (ipykernel)",
   "language": "python",
   "name": "python3"
  },
  "language_info": {
   "codemirror_mode": {
    "name": "ipython",
    "version": 3
   },
   "file_extension": ".py",
   "mimetype": "text/x-python",
   "name": "python",
   "nbconvert_exporter": "python",
   "pygments_lexer": "ipython3",
   "version": "3.12.2"
  }
 },
 "nbformat": 4,
 "nbformat_minor": 5
}
