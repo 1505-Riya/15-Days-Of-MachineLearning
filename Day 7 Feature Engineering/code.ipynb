{
 "cells": [
  {
   "cell_type": "code",
   "execution_count": 1,
   "id": "7842d8ab-d986-4cc4-bef7-5cbf7bdb207a",
   "metadata": {},
   "outputs": [],
   "source": [
    "# =============================================================================\n",
    "# # 1. SETUP: IMPORTING LIBRARIES\n",
    "# =============================================================================\n",
    "import pandas as pd\n",
    "import numpy as np\n",
    "import matplotlib.pyplot as plt\n",
    "import seaborn as sns\n",
    "from sklearn.model_selection import train_test_split\n",
    "from sklearn.ensemble import RandomForestClassifier\n",
    "from sklearn.metrics import accuracy_score"
   ]
  },
  {
   "cell_type": "code",
   "execution_count": 3,
   "id": "89826325-3ecd-4240-be77-e116f5f38549",
   "metadata": {},
   "outputs": [
    {
     "name": "stdout",
     "output_type": "stream",
     "text": [
      "Baseline Accuracy: 0.7799\n",
      "\n",
      "==================================================\n",
      "\n"
     ]
    },
    {
     "name": "stderr",
     "output_type": "stream",
     "text": [
      "C:\\Users\\RIYA\\AppData\\Local\\Temp\\ipykernel_11748\\3122893992.py:7: FutureWarning: A value is trying to be set on a copy of a DataFrame or Series through chained assignment using an inplace method.\n",
      "The behavior will change in pandas 3.0. This inplace method will never work because the intermediate object on which we are setting values always behaves as a copy.\n",
      "\n",
      "For example, when doing 'df[col].method(value, inplace=True)', try using 'df.method({col: value}, inplace=True)' or df[col] = df[col].method(value) instead, to perform the operation inplace on the original object.\n",
      "\n",
      "\n",
      "  data['Age'].fillna(data['Age'].median(), inplace=True)\n",
      "C:\\Users\\RIYA\\AppData\\Local\\Temp\\ipykernel_11748\\3122893992.py:8: FutureWarning: A value is trying to be set on a copy of a DataFrame or Series through chained assignment using an inplace method.\n",
      "The behavior will change in pandas 3.0. This inplace method will never work because the intermediate object on which we are setting values always behaves as a copy.\n",
      "\n",
      "For example, when doing 'df[col].method(value, inplace=True)', try using 'df.method({col: value}, inplace=True)' or df[col] = df[col].method(value) instead, to perform the operation inplace on the original object.\n",
      "\n",
      "\n",
      "  data['Embarked'].fillna(data['Embarked'].mode()[0], inplace=True)\n",
      "C:\\Users\\RIYA\\AppData\\Local\\Temp\\ipykernel_11748\\3122893992.py:9: FutureWarning: A value is trying to be set on a copy of a DataFrame or Series through chained assignment using an inplace method.\n",
      "The behavior will change in pandas 3.0. This inplace method will never work because the intermediate object on which we are setting values always behaves as a copy.\n",
      "\n",
      "For example, when doing 'df[col].method(value, inplace=True)', try using 'df.method({col: value}, inplace=True)' or df[col] = df[col].method(value) instead, to perform the operation inplace on the original object.\n",
      "\n",
      "\n",
      "  data['Fare'].fillna(data['Fare'].median(), inplace=True)\n"
     ]
    }
   ],
   "source": [
    "# =============================================================================\n",
    "# # 2. DATA LOADING AND BASELINE MODEL (Same as before)\n",
    "# =============================================================================\n",
    "df_base_raw = pd.read_csv('data/train.csv')\n",
    "\n",
    "def clean_data(data):\n",
    "    data['Age'].fillna(data['Age'].median(), inplace=True)\n",
    "    data['Embarked'].fillna(data['Embarked'].mode()[0], inplace=True)\n",
    "    data['Fare'].fillna(data['Fare'].median(), inplace=True)\n",
    "    return data\n",
    "\n",
    "df_base_clean = clean_data(df_base_raw)\n",
    "baseline_features = ['Pclass', 'Sex', 'Age', 'SibSp', 'Parch', 'Fare', 'Embarked']\n",
    "target = 'Survived'\n",
    "df_baseline_encoded = pd.get_dummies(df_base_clean[baseline_features + [target]], columns=['Sex', 'Embarked'], drop_first=True)\n",
    "X_base = df_baseline_encoded.drop(target, axis=1)\n",
    "y_base = df_baseline_encoded[target]\n",
    "X_train_base, X_test_base, y_train_base, y_test_base = train_test_split(X_base, y_base, test_size=0.3, random_state=42)\n",
    "baseline_model = RandomForestClassifier(n_estimators=100, random_state=42)\n",
    "baseline_model.fit(X_train_base, y_train_base)\n",
    "y_pred_base = baseline_model.predict(X_test_base)\n",
    "baseline_accuracy = accuracy_score(y_test_base, y_pred_base)\n",
    "\n",
    "print(f\"Baseline Accuracy: {baseline_accuracy:.4f}\")\n",
    "print(\"\\n\" + \"=\"*50 + \"\\n\")\n"
   ]
  },
  {
   "cell_type": "code",
   "execution_count": 5,
   "id": "7e68ffcf-c8f6-4358-9508-a607a6f20841",
   "metadata": {},
   "outputs": [
    {
     "name": "stdout",
     "output_type": "stream",
     "text": [
      "--- Advanced Features Created ---\n",
      "  Title       AgeBin    FareBin Deck\n",
      "0    Mr  Young Adult        Low    U\n",
      "1   Mrs        Adult  Very High    C\n",
      "2  Miss  Young Adult     Medium    U\n",
      "3   Mrs  Young Adult  Very High    C\n",
      "4    Mr  Young Adult     Medium    U\n",
      "\n",
      "==================================================\n",
      "\n"
     ]
    },
    {
     "name": "stderr",
     "output_type": "stream",
     "text": [
      "<>:9: SyntaxWarning: invalid escape sequence '\\.'\n",
      "<>:9: SyntaxWarning: invalid escape sequence '\\.'\n",
      "C:\\Users\\RIYA\\AppData\\Local\\Temp\\ipykernel_11748\\1588304459.py:9: SyntaxWarning: invalid escape sequence '\\.'\n",
      "  df_fe['Title'] = df_fe['Name'].str.extract(' ([A-Za-z]+)\\.', expand=False)\n",
      "C:\\Users\\RIYA\\AppData\\Local\\Temp\\ipykernel_11748\\3122893992.py:7: FutureWarning: A value is trying to be set on a copy of a DataFrame or Series through chained assignment using an inplace method.\n",
      "The behavior will change in pandas 3.0. This inplace method will never work because the intermediate object on which we are setting values always behaves as a copy.\n",
      "\n",
      "For example, when doing 'df[col].method(value, inplace=True)', try using 'df.method({col: value}, inplace=True)' or df[col] = df[col].method(value) instead, to perform the operation inplace on the original object.\n",
      "\n",
      "\n",
      "  data['Age'].fillna(data['Age'].median(), inplace=True)\n",
      "C:\\Users\\RIYA\\AppData\\Local\\Temp\\ipykernel_11748\\3122893992.py:8: FutureWarning: A value is trying to be set on a copy of a DataFrame or Series through chained assignment using an inplace method.\n",
      "The behavior will change in pandas 3.0. This inplace method will never work because the intermediate object on which we are setting values always behaves as a copy.\n",
      "\n",
      "For example, when doing 'df[col].method(value, inplace=True)', try using 'df.method({col: value}, inplace=True)' or df[col] = df[col].method(value) instead, to perform the operation inplace on the original object.\n",
      "\n",
      "\n",
      "  data['Embarked'].fillna(data['Embarked'].mode()[0], inplace=True)\n",
      "C:\\Users\\RIYA\\AppData\\Local\\Temp\\ipykernel_11748\\3122893992.py:9: FutureWarning: A value is trying to be set on a copy of a DataFrame or Series through chained assignment using an inplace method.\n",
      "The behavior will change in pandas 3.0. This inplace method will never work because the intermediate object on which we are setting values always behaves as a copy.\n",
      "\n",
      "For example, when doing 'df[col].method(value, inplace=True)', try using 'df.method({col: value}, inplace=True)' or df[col] = df[col].method(value) instead, to perform the operation inplace on the original object.\n",
      "\n",
      "\n",
      "  data['Fare'].fillna(data['Fare'].median(), inplace=True)\n"
     ]
    }
   ],
   "source": [
    "# =============================================================================\n",
    "# # 3. ADVANCED FEATURE ENGINEERING\n",
    "# =============================================================================\n",
    "df_fe_raw = pd.read_csv('data/train.csv')\n",
    "df_fe = clean_data(df_fe_raw)\n",
    "\n",
    "# --- Feature 1: Advanced Title Grouping ---\n",
    "title_mapping = {\"Mr\": \"Mr\", \"Miss\": \"Miss\", \"Mrs\": \"Mrs\", \"Master\": \"Master\", \"Dr\": \"Official\", \"Rev\": \"Official\", \"Col\": \"Official\", \"Major\": \"Official\", \"Capt\": \"Official\", \"Mlle\": \"Miss\", \"Ms\": \"Miss\", \"Mme\": \"Mrs\", \"Lady\": \"Royal\", \"Countess\": \"Royal\", \"Jonkheer\": \"Royal\", \"Sir\": \"Royal\", \"Don\": \"Royal\"}\n",
    "df_fe['Title'] = df_fe['Name'].str.extract(' ([A-Za-z]+)\\.', expand=False)\n",
    "df_fe['Title'] = df_fe['Title'].map(title_mapping).fillna('Other')\n",
    "\n",
    "# --- Feature 2: Binning Age and Fare ---\n",
    "df_fe['AgeBin'] = pd.cut(df_fe['Age'], bins=[0, 12, 18, 35, 60, 100], labels=['Child', 'Teen', 'Young Adult', 'Adult', 'Senior'])\n",
    "df_fe['FareBin'] = pd.qcut(df_fe['Fare'], 4, labels=['Low', 'Medium', 'High', 'Very High'])\n",
    "\n",
    "# --- Feature 3: Extracting Deck from Cabin ---\n",
    "df_fe['Deck'] = df_fe['Cabin'].str[0].fillna('U')\n",
    "\n",
    "print(\"--- Advanced Features Created ---\")\n",
    "print(df_fe[['Title', 'AgeBin', 'FareBin', 'Deck']].head())\n",
    "print(\"\\n\" + \"=\"*50 + \"\\n\")\n",
    "\n",
    "\n"
   ]
  },
  {
   "cell_type": "code",
   "execution_count": 6,
   "id": "1786ef93-5ebc-4062-af5f-6a1787f0318b",
   "metadata": {},
   "outputs": [
    {
     "name": "stdout",
     "output_type": "stream",
     "text": [
      "Accuracy with Advanced Features: 0.7985\n",
      "\n",
      "==================================================\n",
      "\n"
     ]
    }
   ],
   "source": [
    "# =============================================================================\n",
    "# # 4. MODEL WITH ADVANCED FEATURES\n",
    "# =============================================================================\n",
    "# Select features, dropping the original columns we replaced\n",
    "features_to_drop = ['Name', 'Ticket', 'Cabin', 'Age', 'Fare', 'SibSp', 'Parch']\n",
    "df_fe.drop(features_to_drop, axis=1, inplace=True)\n",
    "\n",
    "# One-hot encode all categorical features\n",
    "df_fe_encoded = pd.get_dummies(df_fe, columns=['Sex', 'Embarked', 'Title', 'AgeBin', 'FareBin', 'Deck'], drop_first=True)\n",
    "\n",
    "X_fe = df_fe_encoded.drop(target, axis=1)\n",
    "y_fe = df_fe_encoded[target]\n",
    "\n",
    "# Split and train the new model\n",
    "X_train_fe, X_test_fe, y_train_fe, y_test_fe = train_test_split(X_fe, y_fe, test_size=0.3, random_state=42)\n",
    "fe_model = RandomForestClassifier(n_estimators=100, random_state=42)\n",
    "fe_model.fit(X_train_fe, y_train_fe)\n",
    "y_pred_fe = fe_model.predict(X_test_fe)\n",
    "fe_accuracy_advanced = accuracy_score(y_test_fe, y_pred_fe)\n",
    "\n",
    "print(f\"Accuracy with Advanced Features: {fe_accuracy_advanced:.4f}\")\n",
    "print(\"\\n\" + \"=\"*50 + \"\\n\")"
   ]
  },
  {
   "cell_type": "code",
   "execution_count": 7,
   "id": "25342ad4-eb8d-4c40-8f32-4b721f413fd5",
   "metadata": {},
   "outputs": [
    {
     "name": "stdout",
     "output_type": "stream",
     "text": [
      "The new features resulted in a 2.39% relative improvement in accuracy.\n"
     ]
    },
    {
     "name": "stderr",
     "output_type": "stream",
     "text": [
      "C:\\Users\\RIYA\\AppData\\Local\\Temp\\ipykernel_11748\\763506168.py:10: FutureWarning: \n",
      "\n",
      "Passing `palette` without assigning `hue` is deprecated and will be removed in v0.14.0. Assign the `x` variable to `hue` and set `legend=False` for the same effect.\n",
      "\n",
      "  sns.barplot(x=labels, y=accuracies, palette='viridis')\n"
     ]
    },
    {
     "data": {
      "image/png": "[encoded data removed]",
      "text/plain": [
       "<Figure size 800x600 with 1 Axes>"
      ]
     },
     "metadata": {},
     "output_type": "display_data"
    }
   ],
   "source": [
    "# =============================================================================\n",
    "# # 5. VISUALIZE THE IMPROVEMENT\n",
    "# =============================================================================\n",
    "improvement = ((fe_accuracy_advanced - baseline_accuracy) / baseline_accuracy) * 100\n",
    "print(f\"The new features resulted in a {improvement:.2f}% relative improvement in accuracy.\")\n",
    "\n",
    "plt.figure(figsize=(8, 6))\n",
    "accuracies = [baseline_accuracy, fe_accuracy_advanced]\n",
    "labels = ['Baseline Model', 'Model with Advanced Features']\n",
    "sns.barplot(x=labels, y=accuracies, palette='viridis')\n",
    "plt.ylabel('Accuracy Score')\n",
    "plt.title('Model Accuracy Comparison', fontsize=16)\n",
    "plt.ylim(0.7, 0.9)\n",
    "for i, acc in enumerate(accuracies):\n",
    "    plt.text(i, acc + 0.005, f'{acc:.4f}', ha='center', va='bottom', fontsize=12)\n",
    "plt.savefig('model_improvement_chart_advanced.png')\n",
    "plt.show()"
   ]
  }
 ],
 "metadata": {
  "kernelspec": {
   "display_name": "Python 3 (ipykernel)",
   "language": "python",
   "name": "python3"
  },
  "language_info": {
   "codemirror_mode": {
    "name": "ipython",
    "version": 3
   },
   "file_extension": ".py",
   "mimetype": "text/x-python",
   "name": "python",
   "nbconvert_exporter": "python",
   "pygments_lexer": "ipython3",
   "version": "3.12.2"
  }
 },
 "nbformat": 4,
 "nbformat_minor": 5
}
